{
 "cells": [
  {
   "cell_type": "markdown",
   "metadata": {},
   "source": [
    "# Ethereum value prediction with Twitter analysis and Google Trends\n",
    "## Summary\n",
    "* Context\n",
    "* Data Collection\n",
    "* Data Preprocessing\n",
    "* Model Construction\n",
    "* Sanity check\n",
    "* Model Training\n",
    "* Evaluation\n",
    "\n",
    "## Context\n",
    "This project is done as an assignment for a course named \"Python for finance\".\n",
    "We will try to get a regression model to predict the value of the Ethereum coin in dollars.\n",
    "For that, we will gather data based on the relative interest people have for the subject on Google, we will also try to get a feeling of how are people actually reacting to ethereum with a sentiment analysis, based on the most retweeted tweets daily.\n",
    "\n",
    "## Data Collection\n",
    "As no dataset was available for what we were trying to do, we decided to scrape the data online. Between all data sources, the most that we could get was up to 3 years of data, we will therefore do our analysis with data from 14-01-2018 up to 01-01-2021 as it is the biggest usable range we could get."
   ]
  },
  {
   "cell_type": "code",
   "execution_count": 125,
   "metadata": {},
   "outputs": [],
   "source": [
    "import requests\n",
    "import pandas as pd\n",
    "import json\n",
    "import numpy as np\n",
    "import math\n",
    "import re\n",
    "from matplotlib import pyplot as plt\n",
    "from pytrends.request import TrendReq\n",
    "from datetime import datetime, date, timedelta\n",
    "\n",
    "from keras.models import Sequential\n",
    "from keras.layers import Dense, LSTM, Dropout, Flatten, Input\n",
    "from sklearn.preprocessing import MinMaxScaler\n",
    "from sklearn.metrics import mean_squared_error\n",
    "\n",
    "import twint\n",
    "from textblob import TextBlob\n",
    "\n",
    "np.random.seed(0)\n",
    "\n",
    "freeKey = \"hidden****************\"\n",
    "# Get grouped token price history\n",
    "# period:  show price history of specified days number only [optional, 365 days if not set]\n",
    "\n",
    "def getTokenPriceHistoryGrouped(address):\n",
    "    history = requests.get(\n",
    "        f\"https://api.ethplorer.io/getTokenPriceHistoryGrouped/{address}?apiKey={freeKey}&period=1126\")\n",
    "    return history.json()"
   ]
  },
  {
   "cell_type": "markdown",
   "metadata": {},
   "source": [
    "### Ethplorer API\n",
    "We use the Ethplorer API to get the value of Ethereum for the last 3 years."
   ]
  },
  {
   "cell_type": "code",
   "execution_count": 31,
   "metadata": {},
   "outputs": [],
   "source": [
    "ETH = getTokenPriceHistoryGrouped(\"0xc02aaa39b223fe8d0a0e5c4f27ead9083c756cc2\")"
   ]
  },
  {
   "cell_type": "code",
   "execution_count": 33,
   "metadata": {},
   "outputs": [],
   "source": [
    "current = ETH[\"history\"][\"current\"]\n",
    "current_formated = {}\n",
    "for key in current:\n",
    "    current_formated[key] = {\"0\": current[key]}\n",
    "\n",
    "countTxs = ETH[\"history\"][\"countTxs\"]\n",
    "countTxs_formated = []\n",
    "for key in countTxs:\n",
    "    tmp = {}\n",
    "    if key[\"_id\"][\"month\"] < 10:\n",
    "        key[\"_id\"][\"month\"] = f'0{key[\"_id\"][\"month\"]}'\n",
    "    if key[\"_id\"][\"day\"] < 10:\n",
    "        key[\"_id\"][\"day\"] = f'0{key[\"_id\"][\"day\"]}'\n",
    "    tmp[\"date\"] = f'{key[\"_id\"][\"year\"]}-{key[\"_id\"][\"month\"]}-{key[\"_id\"][\"day\"]}'\n",
    "    tmp[\"ts\"] = key[\"ts\"]\n",
    "    tmp[\"cnt\"] = key[\"cnt\"]\n",
    "    countTxs_formated.append(tmp)\n",
    "\n",
    "prices = ETH[\"history\"][\"prices\"]"
   ]
  },
  {
   "cell_type": "markdown",
   "metadata": {},
   "source": [
    "We write the ethplorer data to several JSON files to save it as this API is not very stable and seems to be down/have problems pretty often."
   ]
  },
  {
   "cell_type": "code",
   "execution_count": 35,
   "metadata": {},
   "outputs": [],
   "source": [
    "with open(\"./current.json\", \"w\") as f:\n",
    "    json.dump(current_formated, f)\n",
    "\n",
    "with open(\"./countTxs.json\", \"w\") as f:\n",
    "    json.dump(countTxs_formated, f)\n",
    "\n",
    "with open(\"./prices.json\", \"w\") as f:\n",
    "    json.dump(prices, f)"
   ]
  },
  {
   "cell_type": "markdown",
   "metadata": {},
   "source": [
    "Now, we have three JSON files - We can read these files via pandas to load our data."
   ]
  },
  {
   "cell_type": "code",
   "execution_count": 2,
   "metadata": {
    "collapsed": true
   },
   "outputs": [
    {
     "name": "stdout",
     "output_type": "stream",
     "text": [
      "         rate  diff  diff7d          ts  marketCapUsd  availableSupply  \\\n",
      "0  1366.47251 -2.46   10.95  1612023544             0                0   \n",
      "\n",
      "      volume24h    diff30d   volDiff1  volDiff7   volDiff30  \n",
      "0  1.047521e+09  84.127272 -23.361209  9.209623  218.172966  \n",
      "           date          ts     cnt\n",
      "0    2021-01-30  1611964875  162025\n",
      "1    2021-01-29  1611878426  232665\n",
      "2    2021-01-28  1611792015  242471\n",
      "3    2021-01-27  1611705647  247451\n",
      "4    2021-01-26  1611619269  241828\n",
      "...         ...         ...     ...\n",
      "1121 2018-01-05  1515110826     491\n",
      "1122 2018-01-04  1515024375     480\n",
      "1123 2018-01-03  1514939014     455\n",
      "1124 2018-01-02  1514852987     748\n",
      "1125 2018-01-01  1514765850     323\n",
      "\n",
      "[1126 rows x 3 columns]\n",
      "           ts       date  hour     open    close     high      low  \\\n",
      "0  1515888000 2018-01-14     0  1286.69  1350.65  1369.97  1267.42   \n",
      "1  1515974400 2018-01-15     0  1352.34  1224.65  1372.93  1199.09   \n",
      "2  1516060800 2018-01-16     0  1221.58  1057.25  1237.31   810.24   \n",
      "3  1516147200 2018-01-17     0  1043.11  1019.67  1155.42   693.20   \n",
      "4  1516233600 2018-01-18     0  1022.03   984.60  1195.49   628.17   \n",
      "\n",
      "       volume  volumeConverted  cap   average  tmp  \n",
      "0  186.626677         246099.0    0  1318.670  NaN  \n",
      "1  309.244506         398460.0    0  1288.495  NaN  \n",
      "2  129.268967         147291.0    0  1139.415  NaN  \n",
      "3   54.948274          56673.1    0  1031.390  NaN  \n",
      "4  302.752376         303756.0    0  1003.315  NaN  \n"
     ]
    }
   ],
   "source": [
    "current_df = pd.read_json(\"./current.json\")\n",
    "print(current_df.head())\n",
    "\n",
    "countTxs_df = pd.read_json(\"./countTxs.json\")\n",
    "print(countTxs_df)\n",
    "\n",
    "prices_df = pd.read_json(\"./prices.json\")\n",
    "print(prices_df.head())"
   ]
  },
  {
   "cell_type": "markdown",
   "metadata": {},
   "source": [
    "### Google Trends API\n",
    "that we have the Ethereum price data, we will get the Google Trends API to get the interest over time"
   ]
  },
  {
   "cell_type": "code",
   "execution_count": 3,
   "metadata": {},
   "outputs": [],
   "source": [
    "pytrend = TrendReq()"
   ]
  },
  {
   "cell_type": "markdown",
   "metadata": {},
   "source": [
    "As the Google Trends API only gives us data points for every week, we need to map those to the corresponding days, and we chose to interpolate between those weekly points to get daily data"
   ]
  },
  {
   "cell_type": "code",
   "execution_count": 5,
   "metadata": {},
   "outputs": [],
   "source": [
    "pytrend.build_payload(kw_list=[\"Ethereum\"], timeframe='today 5-y')\n",
    "\n",
    "iot = pytrend.interest_over_time()\n",
    "iot = iot.sort_values(by=\"date\")\n",
    "\n",
    "index = list(iot.index)\n",
    "values = list(iot.values)\n",
    "\n",
    "index = [date.fromtimestamp(datetime.timestamp(x)) for x in index]\n",
    "values = [x[0] for x in values]\n",
    "\n",
    "date = date.fromisoformat('2016-01-30')\n",
    "index.insert(0, date)\n",
    "values.insert(0, values[0])\n",
    "\n",
    "one_day = timedelta(days=1)\n",
    "\n",
    "rmv_lst = []\n",
    "\n",
    "i = 0\n",
    "while date != date.fromisoformat(\"2021-01-26\"):\n",
    "    if date < date.fromisoformat(\"2018-01-14\"):\n",
    "        rmv_lst.append(date)\n",
    "        \n",
    "    if date not in index:\n",
    "        index.insert(i, date)\n",
    "        values.insert(i, float(\"nan\"))\n",
    "        \n",
    "    date += one_day\n",
    "    i+=1"
   ]
  },
  {
   "cell_type": "code",
   "execution_count": 6,
   "metadata": {
    "scrolled": true
   },
   "outputs": [],
   "source": [
    "iot = pd.DataFrame({\"date\":index,\n",
    "                    \"interest\": values})"
   ]
  },
  {
   "cell_type": "code",
   "execution_count": 7,
   "metadata": {
    "scrolled": true
   },
   "outputs": [
    {
     "data": {
      "text/html": [
       "<div>\n",
       "<style scoped>\n",
       "    .dataframe tbody tr th:only-of-type {\n",
       "        vertical-align: middle;\n",
       "    }\n",
       "\n",
       "    .dataframe tbody tr th {\n",
       "        vertical-align: top;\n",
       "    }\n",
       "\n",
       "    .dataframe thead th {\n",
       "        text-align: right;\n",
       "    }\n",
       "</style>\n",
       "<table border=\"1\" class=\"dataframe\">\n",
       "  <thead>\n",
       "    <tr style=\"text-align: right;\">\n",
       "      <th></th>\n",
       "      <th>date</th>\n",
       "      <th>interest</th>\n",
       "    </tr>\n",
       "    <tr>\n",
       "      <th>date</th>\n",
       "      <th></th>\n",
       "      <th></th>\n",
       "    </tr>\n",
       "  </thead>\n",
       "  <tbody>\n",
       "    <tr>\n",
       "      <th>2016-01-30</th>\n",
       "      <td>2016-01-30</td>\n",
       "      <td>1.000000</td>\n",
       "    </tr>\n",
       "    <tr>\n",
       "      <th>2016-01-31</th>\n",
       "      <td>2016-01-31</td>\n",
       "      <td>1.000000</td>\n",
       "    </tr>\n",
       "    <tr>\n",
       "      <th>2016-02-01</th>\n",
       "      <td>2016-02-01</td>\n",
       "      <td>1.142857</td>\n",
       "    </tr>\n",
       "    <tr>\n",
       "      <th>2016-02-02</th>\n",
       "      <td>2016-02-02</td>\n",
       "      <td>1.285714</td>\n",
       "    </tr>\n",
       "    <tr>\n",
       "      <th>2016-02-03</th>\n",
       "      <td>2016-02-03</td>\n",
       "      <td>1.428571</td>\n",
       "    </tr>\n",
       "    <tr>\n",
       "      <th>...</th>\n",
       "      <td>...</td>\n",
       "      <td>...</td>\n",
       "    </tr>\n",
       "    <tr>\n",
       "      <th>2021-01-21</th>\n",
       "      <td>2021-01-21</td>\n",
       "      <td>65.285714</td>\n",
       "    </tr>\n",
       "    <tr>\n",
       "      <th>2021-01-22</th>\n",
       "      <td>2021-01-22</td>\n",
       "      <td>64.857143</td>\n",
       "    </tr>\n",
       "    <tr>\n",
       "      <th>2021-01-23</th>\n",
       "      <td>2021-01-23</td>\n",
       "      <td>64.428571</td>\n",
       "    </tr>\n",
       "    <tr>\n",
       "      <th>2021-01-24</th>\n",
       "      <td>2021-01-24</td>\n",
       "      <td>64.000000</td>\n",
       "    </tr>\n",
       "    <tr>\n",
       "      <th>2021-01-25</th>\n",
       "      <td>2021-01-25</td>\n",
       "      <td>64.000000</td>\n",
       "    </tr>\n",
       "  </tbody>\n",
       "</table>\n",
       "<p>1823 rows × 2 columns</p>\n",
       "</div>"
      ],
      "text/plain": [
       "                  date   interest\n",
       "date                             \n",
       "2016-01-30  2016-01-30   1.000000\n",
       "2016-01-31  2016-01-31   1.000000\n",
       "2016-02-01  2016-02-01   1.142857\n",
       "2016-02-02  2016-02-02   1.285714\n",
       "2016-02-03  2016-02-03   1.428571\n",
       "...                ...        ...\n",
       "2021-01-21  2021-01-21  65.285714\n",
       "2021-01-22  2021-01-22  64.857143\n",
       "2021-01-23  2021-01-23  64.428571\n",
       "2021-01-24  2021-01-24  64.000000\n",
       "2021-01-25  2021-01-25  64.000000\n",
       "\n",
       "[1823 rows x 2 columns]"
      ]
     },
     "execution_count": 7,
     "metadata": {},
     "output_type": "execute_result"
    }
   ],
   "source": [
    "iot = iot.interpolate(method=\"linear\", limit_direction=\"forward\")\n",
    "iot.index = iot.date\n",
    "\n",
    "iot"
   ]
  },
  {
   "cell_type": "markdown",
   "metadata": {},
   "source": [
    "Google Trends gives us a value between 0 and 100%, 100% being the period over which there was the most google searches on a particular subject. Also, the API only gives us data on particular time periods, the one we used was 5 years, so we need to remove the additionnal dates for which we have no use as follows."
   ]
  },
  {
   "cell_type": "code",
   "execution_count": 8,
   "metadata": {},
   "outputs": [
    {
     "data": {
      "text/html": [
       "<div>\n",
       "<style scoped>\n",
       "    .dataframe tbody tr th:only-of-type {\n",
       "        vertical-align: middle;\n",
       "    }\n",
       "\n",
       "    .dataframe tbody tr th {\n",
       "        vertical-align: top;\n",
       "    }\n",
       "\n",
       "    .dataframe thead th {\n",
       "        text-align: right;\n",
       "    }\n",
       "</style>\n",
       "<table border=\"1\" class=\"dataframe\">\n",
       "  <thead>\n",
       "    <tr style=\"text-align: right;\">\n",
       "      <th></th>\n",
       "      <th>date</th>\n",
       "      <th>interest</th>\n",
       "    </tr>\n",
       "    <tr>\n",
       "      <th>date</th>\n",
       "      <th></th>\n",
       "      <th></th>\n",
       "    </tr>\n",
       "  </thead>\n",
       "  <tbody>\n",
       "    <tr>\n",
       "      <th>2018-01-14</th>\n",
       "      <td>2018-01-14</td>\n",
       "      <td>63.000000</td>\n",
       "    </tr>\n",
       "    <tr>\n",
       "      <th>2018-01-15</th>\n",
       "      <td>2018-01-15</td>\n",
       "      <td>59.285714</td>\n",
       "    </tr>\n",
       "    <tr>\n",
       "      <th>2018-01-16</th>\n",
       "      <td>2018-01-16</td>\n",
       "      <td>55.571429</td>\n",
       "    </tr>\n",
       "    <tr>\n",
       "      <th>2018-01-17</th>\n",
       "      <td>2018-01-17</td>\n",
       "      <td>51.857143</td>\n",
       "    </tr>\n",
       "    <tr>\n",
       "      <th>2018-01-18</th>\n",
       "      <td>2018-01-18</td>\n",
       "      <td>48.142857</td>\n",
       "    </tr>\n",
       "    <tr>\n",
       "      <th>...</th>\n",
       "      <td>...</td>\n",
       "      <td>...</td>\n",
       "    </tr>\n",
       "    <tr>\n",
       "      <th>2021-01-21</th>\n",
       "      <td>2021-01-21</td>\n",
       "      <td>65.285714</td>\n",
       "    </tr>\n",
       "    <tr>\n",
       "      <th>2021-01-22</th>\n",
       "      <td>2021-01-22</td>\n",
       "      <td>64.857143</td>\n",
       "    </tr>\n",
       "    <tr>\n",
       "      <th>2021-01-23</th>\n",
       "      <td>2021-01-23</td>\n",
       "      <td>64.428571</td>\n",
       "    </tr>\n",
       "    <tr>\n",
       "      <th>2021-01-24</th>\n",
       "      <td>2021-01-24</td>\n",
       "      <td>64.000000</td>\n",
       "    </tr>\n",
       "    <tr>\n",
       "      <th>2021-01-25</th>\n",
       "      <td>2021-01-25</td>\n",
       "      <td>64.000000</td>\n",
       "    </tr>\n",
       "  </tbody>\n",
       "</table>\n",
       "<p>1108 rows × 2 columns</p>\n",
       "</div>"
      ],
      "text/plain": [
       "                  date   interest\n",
       "date                             \n",
       "2018-01-14  2018-01-14  63.000000\n",
       "2018-01-15  2018-01-15  59.285714\n",
       "2018-01-16  2018-01-16  55.571429\n",
       "2018-01-17  2018-01-17  51.857143\n",
       "2018-01-18  2018-01-18  48.142857\n",
       "...                ...        ...\n",
       "2021-01-21  2021-01-21  65.285714\n",
       "2021-01-22  2021-01-22  64.857143\n",
       "2021-01-23  2021-01-23  64.428571\n",
       "2021-01-24  2021-01-24  64.000000\n",
       "2021-01-25  2021-01-25  64.000000\n",
       "\n",
       "[1108 rows x 2 columns]"
      ]
     },
     "execution_count": 8,
     "metadata": {},
     "output_type": "execute_result"
    }
   ],
   "source": [
    "mask = ~np.in1d(iot.index, pd.to_datetime(rmv_lst).date)\n",
    "iot = iot.loc[mask, :]\n",
    "\n",
    "iot"
   ]
  },
  {
   "cell_type": "code",
   "execution_count": 9,
   "metadata": {},
   "outputs": [
    {
     "name": "stderr",
     "output_type": "stream",
     "text": [
      "<ipython-input-9-66729ab40346>:7: SettingWithCopyWarning: \n",
      "A value is trying to be set on a copy of a slice from a DataFrame.\n",
      "Try using .loc[row_indexer,col_indexer] = value instead\n",
      "\n",
      "See the caveats in the documentation: https://pandas.pydata.org/pandas-docs/stable/user_guide/indexing.html#returning-a-view-versus-a-copy\n",
      "  iot['value'] = temp.loc[:,('average')]\n"
     ]
    },
    {
     "data": {
      "text/html": [
       "<div>\n",
       "<style scoped>\n",
       "    .dataframe tbody tr th:only-of-type {\n",
       "        vertical-align: middle;\n",
       "    }\n",
       "\n",
       "    .dataframe tbody tr th {\n",
       "        vertical-align: top;\n",
       "    }\n",
       "\n",
       "    .dataframe thead th {\n",
       "        text-align: right;\n",
       "    }\n",
       "</style>\n",
       "<table border=\"1\" class=\"dataframe\">\n",
       "  <thead>\n",
       "    <tr style=\"text-align: right;\">\n",
       "      <th></th>\n",
       "      <th>date</th>\n",
       "      <th>interest</th>\n",
       "      <th>value</th>\n",
       "    </tr>\n",
       "    <tr>\n",
       "      <th>date</th>\n",
       "      <th></th>\n",
       "      <th></th>\n",
       "      <th></th>\n",
       "    </tr>\n",
       "  </thead>\n",
       "  <tbody>\n",
       "    <tr>\n",
       "      <th>2018-01-14</th>\n",
       "      <td>2018-01-14</td>\n",
       "      <td>63.000000</td>\n",
       "      <td>1318.670000</td>\n",
       "    </tr>\n",
       "    <tr>\n",
       "      <th>2018-01-15</th>\n",
       "      <td>2018-01-15</td>\n",
       "      <td>59.285714</td>\n",
       "      <td>1288.495000</td>\n",
       "    </tr>\n",
       "    <tr>\n",
       "      <th>2018-01-16</th>\n",
       "      <td>2018-01-16</td>\n",
       "      <td>55.571429</td>\n",
       "      <td>1139.415000</td>\n",
       "    </tr>\n",
       "    <tr>\n",
       "      <th>2018-01-17</th>\n",
       "      <td>2018-01-17</td>\n",
       "      <td>51.857143</td>\n",
       "      <td>1031.390000</td>\n",
       "    </tr>\n",
       "    <tr>\n",
       "      <th>2018-01-18</th>\n",
       "      <td>2018-01-18</td>\n",
       "      <td>48.142857</td>\n",
       "      <td>1003.315000</td>\n",
       "    </tr>\n",
       "    <tr>\n",
       "      <th>...</th>\n",
       "      <td>...</td>\n",
       "      <td>...</td>\n",
       "      <td>...</td>\n",
       "    </tr>\n",
       "    <tr>\n",
       "      <th>2020-12-28</th>\n",
       "      <td>2020-12-28</td>\n",
       "      <td>47.714286</td>\n",
       "      <td>718.333169</td>\n",
       "    </tr>\n",
       "    <tr>\n",
       "      <th>2020-12-29</th>\n",
       "      <td>2020-12-29</td>\n",
       "      <td>56.428571</td>\n",
       "      <td>719.032727</td>\n",
       "    </tr>\n",
       "    <tr>\n",
       "      <th>2020-12-30</th>\n",
       "      <td>2020-12-30</td>\n",
       "      <td>65.142857</td>\n",
       "      <td>732.788551</td>\n",
       "    </tr>\n",
       "    <tr>\n",
       "      <th>2020-12-31</th>\n",
       "      <td>2020-12-31</td>\n",
       "      <td>73.857143</td>\n",
       "      <td>742.134773</td>\n",
       "    </tr>\n",
       "    <tr>\n",
       "      <th>2021-01-01</th>\n",
       "      <td>2021-01-01</td>\n",
       "      <td>82.571429</td>\n",
       "      <td>738.142756</td>\n",
       "    </tr>\n",
       "  </tbody>\n",
       "</table>\n",
       "<p>1084 rows × 3 columns</p>\n",
       "</div>"
      ],
      "text/plain": [
       "                  date   interest        value\n",
       "date                                          \n",
       "2018-01-14  2018-01-14  63.000000  1318.670000\n",
       "2018-01-15  2018-01-15  59.285714  1288.495000\n",
       "2018-01-16  2018-01-16  55.571429  1139.415000\n",
       "2018-01-17  2018-01-17  51.857143  1031.390000\n",
       "2018-01-18  2018-01-18  48.142857  1003.315000\n",
       "...                ...        ...          ...\n",
       "2020-12-28  2020-12-28  47.714286   718.333169\n",
       "2020-12-29  2020-12-29  56.428571   719.032727\n",
       "2020-12-30  2020-12-30  65.142857   732.788551\n",
       "2020-12-31  2020-12-31  73.857143   742.134773\n",
       "2021-01-01  2021-01-01  82.571429   738.142756\n",
       "\n",
       "[1084 rows x 3 columns]"
      ]
     },
     "execution_count": 9,
     "metadata": {},
     "output_type": "execute_result"
    }
   ],
   "source": [
    "temp = prices_df[[\"date\", \"average\"]]\n",
    "temp.index = temp.date\n",
    "temp = temp.drop(columns=[\"date\"])\n",
    "\n",
    "iot['value'] = temp.loc[:,('average')]\n",
    "\n",
    "iot = iot[iot[\"date\"] <= date.fromisoformat(\"2021-01-01\")]\n",
    "\n",
    "iot"
   ]
  },
  {
   "cell_type": "markdown",
   "metadata": {},
   "source": [
    "We now have a dataframe with all our dates, our interest values and the average ethereum value in USD for that particular date.\n",
    "We first plot both those curves, to see if there are any correlations between interest and value."
   ]
  },
  {
   "cell_type": "code",
   "execution_count": 10,
   "metadata": {},
   "outputs": [
    {
     "data": {
      "text/plain": [
       "<matplotlib.axes._subplots.AxesSubplot at 0x1e964910c40>"
      ]
     },
     "execution_count": 10,
     "metadata": {},
     "output_type": "execute_result"
    },
    {
     "data": {
      "image/png": "[encoded data removed]",
      "text/plain": [
       "<Figure size 1008x288 with 1 Axes>"
      ]
     },
     "metadata": {
      "needs_background": "light"
     },
     "output_type": "display_data"
    }
   ],
   "source": [
    "iot.plot(x=\"date\", y=\"interest\", figsize=(14,4))"
   ]
  },
  {
   "cell_type": "code",
   "execution_count": 11,
   "metadata": {},
   "outputs": [
    {
     "data": {
      "text/plain": [
       "<matplotlib.axes._subplots.AxesSubplot at 0x1e964a3be20>"
      ]
     },
     "execution_count": 11,
     "metadata": {},
     "output_type": "execute_result"
    },
    {
     "data": {
      "image/png": "[encoded data removed]",
      "text/plain": [
       "<Figure size 1008x288 with 1 Axes>"
      ]
     },
     "metadata": {
      "needs_background": "light"
     },
     "output_type": "display_data"
    }
   ],
   "source": [
    "iot.plot(x=\"date\", y=\"value\", figsize=(14,4))"
   ]
  },
  {
   "cell_type": "markdown",
   "metadata": {},
   "source": [
    "As we can see, both curves seem disturbingly similar. We will still need to create our model based on this and other values to see how those two curves really relate. We need to be sure it's not just the interest curve following the value curve with a one day delay for instance.\n",
    "\n",
    "### Twint, Twitter scraping API\n",
    "We first tried to use the official twitter API, but we had a lot of problems with the free token, first the time frame we were using wasn't really working for some obscure reason so the data was not on the correct dates, and we had hard calling limitations (not more than 1000 tweets at a time).\n",
    "\n",
    "For that reason, we decided to use Twint, which is an open source API to scrape twitter that actually worked way beyong our expectations, our scraping capabilities were multiplied by at least a tenfold. "
   ]
  },
  {
   "cell_type": "code",
   "execution_count": null,
   "metadata": {},
   "outputs": [],
   "source": [
    "config = twint.Config()\n",
    "config.Hide_output = True\n",
    "config.Since = \"2018-01-01\"\n",
    "config.Until = \"2021-01-01\"\n",
    "config.Min_retweets = 100\n",
    "config.Limit = 10000\n",
    "config.Search = \"Ethereum OR ETH OR #Ethereum\"\n",
    "config.Output = \"D:/WORK/test.csv\"\n",
    "config.Store_csv = True"
   ]
  },
  {
   "cell_type": "code",
   "execution_count": null,
   "metadata": {},
   "outputs": [],
   "source": [
    "twint.run.Search(c)"
   ]
  },
  {
   "cell_type": "code",
   "execution_count": 12,
   "metadata": {},
   "outputs": [
    {
     "data": {
      "text/html": [
       "<div>\n",
       "<style scoped>\n",
       "    .dataframe tbody tr th:only-of-type {\n",
       "        vertical-align: middle;\n",
       "    }\n",
       "\n",
       "    .dataframe tbody tr th {\n",
       "        vertical-align: top;\n",
       "    }\n",
       "\n",
       "    .dataframe thead th {\n",
       "        text-align: right;\n",
       "    }\n",
       "</style>\n",
       "<table border=\"1\" class=\"dataframe\">\n",
       "  <thead>\n",
       "    <tr style=\"text-align: right;\">\n",
       "      <th></th>\n",
       "      <th>date</th>\n",
       "      <th>tweet</th>\n",
       "    </tr>\n",
       "  </thead>\n",
       "  <tbody>\n",
       "    <tr>\n",
       "      <th>5338</th>\n",
       "      <td>2018-01-14</td>\n",
       "      <td>The SelfKey Token Sale sold out in 11 minutes!...</td>\n",
       "    </tr>\n",
       "    <tr>\n",
       "      <th>5331</th>\n",
       "      <td>2018-01-14</td>\n",
       "      <td>Komodo's BarterDEX - our decentralized (crossc...</td>\n",
       "    </tr>\n",
       "    <tr>\n",
       "      <th>5332</th>\n",
       "      <td>2018-01-14</td>\n",
       "      <td>Thank you @CaptainAltcoin for the awesome rati...</td>\n",
       "    </tr>\n",
       "    <tr>\n",
       "      <th>5333</th>\n",
       "      <td>2018-01-14</td>\n",
       "      <td>Wanchain-1.0 is finally here! We will be annou...</td>\n",
       "    </tr>\n",
       "    <tr>\n",
       "      <th>5337</th>\n",
       "      <td>2018-01-14</td>\n",
       "      <td>🤝Affiliate Summit West attended by more than 8...</td>\n",
       "    </tr>\n",
       "    <tr>\n",
       "      <th>...</th>\n",
       "      <td>...</td>\n",
       "      <td>...</td>\n",
       "    </tr>\n",
       "    <tr>\n",
       "      <th>9</th>\n",
       "      <td>2020-12-31</td>\n",
       "      <td>Ether $ETH is 50% off of its all-time high. It...</td>\n",
       "    </tr>\n",
       "    <tr>\n",
       "      <th>10</th>\n",
       "      <td>2020-12-31</td>\n",
       "      <td>#Binance will utilize the Binance   #SAFU Fund...</td>\n",
       "    </tr>\n",
       "    <tr>\n",
       "      <th>11</th>\n",
       "      <td>2020-12-31</td>\n",
       "      <td>The price of ether $ETH right now is $735. Thi...</td>\n",
       "    </tr>\n",
       "    <tr>\n",
       "      <th>6</th>\n",
       "      <td>2020-12-31</td>\n",
       "      <td>I will give someone $25 in 6hrs all you have t...</td>\n",
       "    </tr>\n",
       "    <tr>\n",
       "      <th>0</th>\n",
       "      <td>2021-01-01</td>\n",
       "      <td>I will give someone $100 in 24 hours. All you ...</td>\n",
       "    </tr>\n",
       "  </tbody>\n",
       "</table>\n",
       "<p>5339 rows × 2 columns</p>\n",
       "</div>"
      ],
      "text/plain": [
       "            date                                              tweet\n",
       "5338  2018-01-14  The SelfKey Token Sale sold out in 11 minutes!...\n",
       "5331  2018-01-14  Komodo's BarterDEX - our decentralized (crossc...\n",
       "5332  2018-01-14  Thank you @CaptainAltcoin for the awesome rati...\n",
       "5333  2018-01-14  Wanchain-1.0 is finally here! We will be annou...\n",
       "5337  2018-01-14  🤝Affiliate Summit West attended by more than 8...\n",
       "...          ...                                                ...\n",
       "9     2020-12-31  Ether $ETH is 50% off of its all-time high. It...\n",
       "10    2020-12-31  #Binance will utilize the Binance   #SAFU Fund...\n",
       "11    2020-12-31  The price of ether $ETH right now is $735. Thi...\n",
       "6     2020-12-31  I will give someone $25 in 6hrs all you have t...\n",
       "0     2021-01-01  I will give someone $100 in 24 hours. All you ...\n",
       "\n",
       "[5339 rows x 2 columns]"
      ]
     },
     "execution_count": 12,
     "metadata": {},
     "output_type": "execute_result"
    }
   ],
   "source": [
    "your_directory = \"D:/WORK/test.csv\"\n",
    "\n",
    "df = pd.read_csv(your_directory)\n",
    "df.columns\n",
    "\n",
    "df = df[[\"date\",\"tweet\"]]\n",
    "\n",
    "dates_for_trans = list(df[\"date\"])\n",
    "dates_for_trans = [date.fromisoformat(x) for x in dates_for_trans]\n",
    "\n",
    "df[\"date\"] = dates_for_trans\n",
    "\n",
    "df = df[df[\"date\"] >= date.fromisoformat(\"2018-01-14\")]\n",
    "\n",
    "df = df.sort_values(\"date\")\n",
    "df"
   ]
  },
  {
   "cell_type": "markdown",
   "metadata": {},
   "source": [
    "Here we can see twint worked like a charm. We then needed to clean a bit the tweets to allow the sentiment analysis to be as good as possible. \n",
    "\n",
    "On a side note, we first thought of removing the tweets about giveaways or contests as we thought they were not important. After a few searches, we saw that they were part of the most influencal tweets because of all the comments and retweets. Finally, we decided to include those, as they seemed to still give Ethereum some online exposure"
   ]
  },
  {
   "cell_type": "code",
   "execution_count": 13,
   "metadata": {},
   "outputs": [
    {
     "data": {
      "text/html": [
       "<div>\n",
       "<style scoped>\n",
       "    .dataframe tbody tr th:only-of-type {\n",
       "        vertical-align: middle;\n",
       "    }\n",
       "\n",
       "    .dataframe tbody tr th {\n",
       "        vertical-align: top;\n",
       "    }\n",
       "\n",
       "    .dataframe thead th {\n",
       "        text-align: right;\n",
       "    }\n",
       "</style>\n",
       "<table border=\"1\" class=\"dataframe\">\n",
       "  <thead>\n",
       "    <tr style=\"text-align: right;\">\n",
       "      <th></th>\n",
       "      <th>date</th>\n",
       "      <th>tweet</th>\n",
       "    </tr>\n",
       "  </thead>\n",
       "  <tbody>\n",
       "    <tr>\n",
       "      <th>5338</th>\n",
       "      <td>2018-01-14</td>\n",
       "      <td>The SelfKey Token Sale sold out in 11 minutes!...</td>\n",
       "    </tr>\n",
       "    <tr>\n",
       "      <th>5331</th>\n",
       "      <td>2018-01-14</td>\n",
       "      <td>Komodo's BarterDEX - our decentralized (crossc...</td>\n",
       "    </tr>\n",
       "    <tr>\n",
       "      <th>5332</th>\n",
       "      <td>2018-01-14</td>\n",
       "      <td>Thank you  for the awesome rating of Globitex ...</td>\n",
       "    </tr>\n",
       "    <tr>\n",
       "      <th>5333</th>\n",
       "      <td>2018-01-14</td>\n",
       "      <td>Wanchain-1.0 is finally here! We will be annou...</td>\n",
       "    </tr>\n",
       "    <tr>\n",
       "      <th>5337</th>\n",
       "      <td>2018-01-14</td>\n",
       "      <td>🤝Affiliate Summit West attended by more than 8...</td>\n",
       "    </tr>\n",
       "  </tbody>\n",
       "</table>\n",
       "</div>"
      ],
      "text/plain": [
       "            date                                              tweet\n",
       "5338  2018-01-14  The SelfKey Token Sale sold out in 11 minutes!...\n",
       "5331  2018-01-14  Komodo's BarterDEX - our decentralized (crossc...\n",
       "5332  2018-01-14  Thank you  for the awesome rating of Globitex ...\n",
       "5333  2018-01-14  Wanchain-1.0 is finally here! We will be annou...\n",
       "5337  2018-01-14  🤝Affiliate Summit West attended by more than 8..."
      ]
     },
     "execution_count": 13,
     "metadata": {},
     "output_type": "execute_result"
    }
   ],
   "source": [
    "def cleanTxt(text):\n",
    "    text = re.sub('@[A-Za-z0–9]+', '', text) #Removing @mentions\n",
    "    text = re.sub('#', '', text) # Removing hashtags\n",
    "    text = re.sub('RT[\\s]+', '', text) # Removing RTs\n",
    "    text = re.sub('https?:\\/\\/\\S+', '', text) # Removing hyperlinks\n",
    "    \n",
    "    return text.strip()\n",
    "    \n",
    "df[\"tweet\"] = df[\"tweet\"].apply(cleanTxt)\n",
    "df.head()"
   ]
  },
  {
   "cell_type": "markdown",
   "metadata": {},
   "source": [
    "We then performed sentiment analysis based on the pretrained model of the TextBlob library"
   ]
  },
  {
   "cell_type": "code",
   "execution_count": 14,
   "metadata": {
    "scrolled": true
   },
   "outputs": [
    {
     "name": "stdout",
     "output_type": "stream",
     "text": [
      "['Positive', 'Neutral', 'Positive', 'Neutral', 'Positive']\n"
     ]
    },
    {
     "data": {
      "text/html": [
       "<div>\n",
       "<style scoped>\n",
       "    .dataframe tbody tr th:only-of-type {\n",
       "        vertical-align: middle;\n",
       "    }\n",
       "\n",
       "    .dataframe tbody tr th {\n",
       "        vertical-align: top;\n",
       "    }\n",
       "\n",
       "    .dataframe thead th {\n",
       "        text-align: right;\n",
       "    }\n",
       "</style>\n",
       "<table border=\"1\" class=\"dataframe\">\n",
       "  <thead>\n",
       "    <tr style=\"text-align: right;\">\n",
       "      <th></th>\n",
       "      <th>date</th>\n",
       "      <th>tweet</th>\n",
       "      <th>polarity</th>\n",
       "    </tr>\n",
       "  </thead>\n",
       "  <tbody>\n",
       "    <tr>\n",
       "      <th>5338</th>\n",
       "      <td>2018-01-14</td>\n",
       "      <td>The SelfKey Token Sale sold out in 11 minutes!...</td>\n",
       "      <td>Positive</td>\n",
       "    </tr>\n",
       "    <tr>\n",
       "      <th>5331</th>\n",
       "      <td>2018-01-14</td>\n",
       "      <td>Komodo's BarterDEX - our decentralized (crossc...</td>\n",
       "      <td>Neutral</td>\n",
       "    </tr>\n",
       "    <tr>\n",
       "      <th>5332</th>\n",
       "      <td>2018-01-14</td>\n",
       "      <td>Thank you  for the awesome rating of Globitex ...</td>\n",
       "      <td>Positive</td>\n",
       "    </tr>\n",
       "    <tr>\n",
       "      <th>5333</th>\n",
       "      <td>2018-01-14</td>\n",
       "      <td>Wanchain-1.0 is finally here! We will be annou...</td>\n",
       "      <td>Neutral</td>\n",
       "    </tr>\n",
       "    <tr>\n",
       "      <th>5337</th>\n",
       "      <td>2018-01-14</td>\n",
       "      <td>🤝Affiliate Summit West attended by more than 8...</td>\n",
       "      <td>Positive</td>\n",
       "    </tr>\n",
       "  </tbody>\n",
       "</table>\n",
       "</div>"
      ],
      "text/plain": [
       "            date                                              tweet  polarity\n",
       "5338  2018-01-14  The SelfKey Token Sale sold out in 11 minutes!...  Positive\n",
       "5331  2018-01-14  Komodo's BarterDEX - our decentralized (crossc...   Neutral\n",
       "5332  2018-01-14  Thank you  for the awesome rating of Globitex ...  Positive\n",
       "5333  2018-01-14  Wanchain-1.0 is finally here! We will be annou...   Neutral\n",
       "5337  2018-01-14  🤝Affiliate Summit West attended by more than 8...  Positive"
      ]
     },
     "execution_count": 14,
     "metadata": {},
     "output_type": "execute_result"
    }
   ],
   "source": [
    "tweets_to_analyse = list(df[\"tweet\"])\n",
    "\n",
    "polarity = []\n",
    "\n",
    "for tweet in tweets_to_analyse:\n",
    "    pol = TextBlob(tweet).sentiment.polarity\n",
    "    if pol > 0:\n",
    "        polarity.append(\"Positive\")\n",
    "    elif pol == 0:\n",
    "        polarity.append(\"Neutral\")\n",
    "    else:\n",
    "        polarity.append(\"Negative\")\n",
    "    \n",
    "print(polarity[:5])\n",
    "\n",
    "df[\"polarity\"] = polarity\n",
    "\n",
    "df.head()"
   ]
  },
  {
   "cell_type": "markdown",
   "metadata": {},
   "source": [
    "## Data Preprocessing\n",
    "\n",
    "Finally, as we had multiple tweets per day, and couldn't just use the polarity as is, we decided to add 3 columns to our original dataframe, respectively representing the positive, neutral and negative tweets with the absolute count of tweets in each category on every day. \n",
    "\n",
    "Turns out, we had problems dealing with a few days that have a lot more tweets than other, so instead of trying to do some kind of regularization or outlier detection, we chose to represent every class as a percentage of the total tweets. For instance, if we have 10 tweets, from which 5 are positive, our positive column will have a 0.5 value."
   ]
  },
  {
   "cell_type": "code",
   "execution_count": 15,
   "metadata": {},
   "outputs": [],
   "source": [
    "dategroups = df.groupby(\"date\")"
   ]
  },
  {
   "cell_type": "code",
   "execution_count": 16,
   "metadata": {},
   "outputs": [],
   "source": [
    "tempIndex = []\n",
    "polarityDict = {\"Positive\":[], \"Neutral\":[], \"Negative\":[]}\n",
    "\n",
    "for date, group in dategroups:\n",
    "    if date not in tempIndex:\n",
    "        tempIndex.append(date)\n",
    "        polarityDict[\"Positive\"].append(0)\n",
    "        polarityDict[\"Neutral\"].append(0)\n",
    "        polarityDict[\"Negative\"].append(0)\n",
    "    \n",
    "    for row_index,row in group.iterrows():\n",
    "        polarityDict[row[\"polarity\"]][-1] += 1"
   ]
  },
  {
   "cell_type": "code",
   "execution_count": 99,
   "metadata": {},
   "outputs": [
    {
     "data": {
      "text/html": [
       "<div>\n",
       "<style scoped>\n",
       "    .dataframe tbody tr th:only-of-type {\n",
       "        vertical-align: middle;\n",
       "    }\n",
       "\n",
       "    .dataframe tbody tr th {\n",
       "        vertical-align: top;\n",
       "    }\n",
       "\n",
       "    .dataframe thead th {\n",
       "        text-align: right;\n",
       "    }\n",
       "</style>\n",
       "<table border=\"1\" class=\"dataframe\">\n",
       "  <thead>\n",
       "    <tr style=\"text-align: right;\">\n",
       "      <th></th>\n",
       "      <th>Positive</th>\n",
       "      <th>Neutral</th>\n",
       "      <th>Negative</th>\n",
       "    </tr>\n",
       "  </thead>\n",
       "  <tbody>\n",
       "    <tr>\n",
       "      <th>2018-01-14</th>\n",
       "      <td>0.500000</td>\n",
       "      <td>0.375000</td>\n",
       "      <td>0.125000</td>\n",
       "    </tr>\n",
       "    <tr>\n",
       "      <th>2018-01-15</th>\n",
       "      <td>0.666667</td>\n",
       "      <td>0.083333</td>\n",
       "      <td>0.250000</td>\n",
       "    </tr>\n",
       "    <tr>\n",
       "      <th>2018-01-16</th>\n",
       "      <td>0.562500</td>\n",
       "      <td>0.375000</td>\n",
       "      <td>0.062500</td>\n",
       "    </tr>\n",
       "    <tr>\n",
       "      <th>2018-01-17</th>\n",
       "      <td>0.250000</td>\n",
       "      <td>0.750000</td>\n",
       "      <td>0.000000</td>\n",
       "    </tr>\n",
       "    <tr>\n",
       "      <th>2018-01-18</th>\n",
       "      <td>0.333333</td>\n",
       "      <td>0.500000</td>\n",
       "      <td>0.166667</td>\n",
       "    </tr>\n",
       "  </tbody>\n",
       "</table>\n",
       "</div>"
      ],
      "text/plain": [
       "            Positive   Neutral  Negative\n",
       "2018-01-14  0.500000  0.375000  0.125000\n",
       "2018-01-15  0.666667  0.083333  0.250000\n",
       "2018-01-16  0.562500  0.375000  0.062500\n",
       "2018-01-17  0.250000  0.750000  0.000000\n",
       "2018-01-18  0.333333  0.500000  0.166667"
      ]
     },
     "execution_count": 99,
     "metadata": {},
     "output_type": "execute_result"
    }
   ],
   "source": [
    "for i in range(len(polarityDict[\"Positive\"])):\n",
    "    tot = polarityDict[\"Positive\"][i] + polarityDict[\"Neutral\"][i] + polarityDict[\"Negative\"][i]\n",
    "    \n",
    "    if tot != 0:\n",
    "        polarityDict[\"Positive\"][i] = polarityDict[\"Positive\"][i]/tot\n",
    "        polarityDict[\"Neutral\"][i] = polarityDict[\"Neutral\"][i]/tot\n",
    "        polarityDict[\"Negative\"][i] = polarityDict[\"Negative\"][i]/tot\n",
    "    else:\n",
    "        polarityDict[\"Positive\"][i] = 0\n",
    "        polarityDict[\"Neutral\"][i] = 0\n",
    "        polarityDict[\"Negative\"][i] = 0\n",
    "        \n",
    "polarity_df = pd.DataFrame.from_dict(polarityDict)\n",
    "polarity_df.index = tempIndex\n",
    "\n",
    "polarity_df.head()"
   ]
  },
  {
   "cell_type": "code",
   "execution_count": 100,
   "metadata": {},
   "outputs": [
    {
     "data": {
      "text/html": [
       "<div>\n",
       "<style scoped>\n",
       "    .dataframe tbody tr th:only-of-type {\n",
       "        vertical-align: middle;\n",
       "    }\n",
       "\n",
       "    .dataframe tbody tr th {\n",
       "        vertical-align: top;\n",
       "    }\n",
       "\n",
       "    .dataframe thead th {\n",
       "        text-align: right;\n",
       "    }\n",
       "</style>\n",
       "<table border=\"1\" class=\"dataframe\">\n",
       "  <thead>\n",
       "    <tr style=\"text-align: right;\">\n",
       "      <th></th>\n",
       "      <th>date</th>\n",
       "      <th>interest</th>\n",
       "      <th>value</th>\n",
       "      <th>Positive</th>\n",
       "      <th>Neutral</th>\n",
       "      <th>Negative</th>\n",
       "    </tr>\n",
       "    <tr>\n",
       "      <th>date</th>\n",
       "      <th></th>\n",
       "      <th></th>\n",
       "      <th></th>\n",
       "      <th></th>\n",
       "      <th></th>\n",
       "      <th></th>\n",
       "    </tr>\n",
       "  </thead>\n",
       "  <tbody>\n",
       "    <tr>\n",
       "      <th>2018-01-14</th>\n",
       "      <td>2018-01-14</td>\n",
       "      <td>63.000000</td>\n",
       "      <td>1318.670</td>\n",
       "      <td>0.500000</td>\n",
       "      <td>0.375000</td>\n",
       "      <td>0.125000</td>\n",
       "    </tr>\n",
       "    <tr>\n",
       "      <th>2018-01-15</th>\n",
       "      <td>2018-01-15</td>\n",
       "      <td>59.285714</td>\n",
       "      <td>1288.495</td>\n",
       "      <td>0.666667</td>\n",
       "      <td>0.083333</td>\n",
       "      <td>0.250000</td>\n",
       "    </tr>\n",
       "    <tr>\n",
       "      <th>2018-01-16</th>\n",
       "      <td>2018-01-16</td>\n",
       "      <td>55.571429</td>\n",
       "      <td>1139.415</td>\n",
       "      <td>0.562500</td>\n",
       "      <td>0.375000</td>\n",
       "      <td>0.062500</td>\n",
       "    </tr>\n",
       "    <tr>\n",
       "      <th>2018-01-17</th>\n",
       "      <td>2018-01-17</td>\n",
       "      <td>51.857143</td>\n",
       "      <td>1031.390</td>\n",
       "      <td>0.250000</td>\n",
       "      <td>0.750000</td>\n",
       "      <td>0.000000</td>\n",
       "    </tr>\n",
       "    <tr>\n",
       "      <th>2018-01-18</th>\n",
       "      <td>2018-01-18</td>\n",
       "      <td>48.142857</td>\n",
       "      <td>1003.315</td>\n",
       "      <td>0.333333</td>\n",
       "      <td>0.500000</td>\n",
       "      <td>0.166667</td>\n",
       "    </tr>\n",
       "  </tbody>\n",
       "</table>\n",
       "</div>"
      ],
      "text/plain": [
       "                  date   interest     value  Positive   Neutral  Negative\n",
       "date                                                                     \n",
       "2018-01-14  2018-01-14  63.000000  1318.670  0.500000  0.375000  0.125000\n",
       "2018-01-15  2018-01-15  59.285714  1288.495  0.666667  0.083333  0.250000\n",
       "2018-01-16  2018-01-16  55.571429  1139.415  0.562500  0.375000  0.062500\n",
       "2018-01-17  2018-01-17  51.857143  1031.390  0.250000  0.750000  0.000000\n",
       "2018-01-18  2018-01-18  48.142857  1003.315  0.333333  0.500000  0.166667"
      ]
     },
     "execution_count": 100,
     "metadata": {},
     "output_type": "execute_result"
    }
   ],
   "source": [
    "joined_df_value_and_polarity = iot.join(polarity_df)\n",
    "joined_df_value_and_polarity.head()"
   ]
  },
  {
   "cell_type": "markdown",
   "metadata": {},
   "source": [
    "We don't scale based on min and max, but by the all time high of ethereum to keep the scale intact between training and testing. This will give better results, but will be unable to respond well to values outside of (0,max(Eth)), which means a new model would need to be trained every time the maximum is reached"
   ]
  },
  {
   "cell_type": "code",
   "execution_count": 102,
   "metadata": {},
   "outputs": [
    {
     "data": {
      "text/html": [
       "<div>\n",
       "<style scoped>\n",
       "    .dataframe tbody tr th:only-of-type {\n",
       "        vertical-align: middle;\n",
       "    }\n",
       "\n",
       "    .dataframe tbody tr th {\n",
       "        vertical-align: top;\n",
       "    }\n",
       "\n",
       "    .dataframe thead th {\n",
       "        text-align: right;\n",
       "    }\n",
       "</style>\n",
       "<table border=\"1\" class=\"dataframe\">\n",
       "  <thead>\n",
       "    <tr style=\"text-align: right;\">\n",
       "      <th></th>\n",
       "      <th>interest</th>\n",
       "      <th>value</th>\n",
       "      <th>Positive</th>\n",
       "      <th>Neutral</th>\n",
       "      <th>Negative</th>\n",
       "    </tr>\n",
       "    <tr>\n",
       "      <th>date</th>\n",
       "      <th></th>\n",
       "      <th></th>\n",
       "      <th></th>\n",
       "      <th></th>\n",
       "      <th></th>\n",
       "    </tr>\n",
       "  </thead>\n",
       "  <tbody>\n",
       "    <tr>\n",
       "      <th>2018-01-14</th>\n",
       "      <td>0.630000</td>\n",
       "      <td>0.879113</td>\n",
       "      <td>0.500000</td>\n",
       "      <td>0.375000</td>\n",
       "      <td>0.125000</td>\n",
       "    </tr>\n",
       "    <tr>\n",
       "      <th>2018-01-15</th>\n",
       "      <td>0.592857</td>\n",
       "      <td>0.858997</td>\n",
       "      <td>0.666667</td>\n",
       "      <td>0.083333</td>\n",
       "      <td>0.250000</td>\n",
       "    </tr>\n",
       "    <tr>\n",
       "      <th>2018-01-16</th>\n",
       "      <td>0.555714</td>\n",
       "      <td>0.759610</td>\n",
       "      <td>0.562500</td>\n",
       "      <td>0.375000</td>\n",
       "      <td>0.062500</td>\n",
       "    </tr>\n",
       "    <tr>\n",
       "      <th>2018-01-17</th>\n",
       "      <td>0.518571</td>\n",
       "      <td>0.687593</td>\n",
       "      <td>0.250000</td>\n",
       "      <td>0.750000</td>\n",
       "      <td>0.000000</td>\n",
       "    </tr>\n",
       "    <tr>\n",
       "      <th>2018-01-18</th>\n",
       "      <td>0.481429</td>\n",
       "      <td>0.668877</td>\n",
       "      <td>0.333333</td>\n",
       "      <td>0.500000</td>\n",
       "      <td>0.166667</td>\n",
       "    </tr>\n",
       "    <tr>\n",
       "      <th>2018-01-19</th>\n",
       "      <td>0.444286</td>\n",
       "      <td>0.655477</td>\n",
       "      <td>0.833333</td>\n",
       "      <td>0.166667</td>\n",
       "      <td>0.000000</td>\n",
       "    </tr>\n",
       "  </tbody>\n",
       "</table>\n",
       "</div>"
      ],
      "text/plain": [
       "            interest     value  Positive   Neutral  Negative\n",
       "date                                                        \n",
       "2018-01-14  0.630000  0.879113  0.500000  0.375000  0.125000\n",
       "2018-01-15  0.592857  0.858997  0.666667  0.083333  0.250000\n",
       "2018-01-16  0.555714  0.759610  0.562500  0.375000  0.062500\n",
       "2018-01-17  0.518571  0.687593  0.250000  0.750000  0.000000\n",
       "2018-01-18  0.481429  0.668877  0.333333  0.500000  0.166667\n",
       "2018-01-19  0.444286  0.655477  0.833333  0.166667  0.000000"
      ]
     },
     "execution_count": 102,
     "metadata": {},
     "output_type": "execute_result"
    }
   ],
   "source": [
    "production_df = joined_df_value_and_polarity.drop([\"date\"], axis=1)\n",
    "production_df[\"interest\"] = production_df[\"interest\"]/100\n",
    "\n",
    "production_df[\"value\"] = production_df[\"value\"]/1500 \n",
    "\n",
    "# We have a few NaN values, for the days where we didn't have any tweets, for that matter, we replace them with 0s\n",
    "production_df = production_df.fillna(0)\n",
    "#production_df.to_csv(\"prodFinance.csv\")\n",
    "production_df.head(6)"
   ]
  },
  {
   "cell_type": "markdown",
   "metadata": {},
   "source": [
    "## Model Construction"
   ]
  },
  {
   "cell_type": "code",
   "execution_count": 103,
   "metadata": {},
   "outputs": [
    {
     "name": "stdout",
     "output_type": "stream",
     "text": [
      "shape :  (1084, 5)\n"
     ]
    }
   ],
   "source": [
    "print(\"shape : \", production_df.shape)"
   ]
  },
  {
   "cell_type": "markdown",
   "metadata": {},
   "source": [
    "As we are studying time series, we create a dataset where every point has reference to the last two points (essentially, looking at a day and the last two days before it)"
   ]
  },
  {
   "cell_type": "code",
   "execution_count": 104,
   "metadata": {},
   "outputs": [],
   "source": [
    "batch_size = 1\n",
    "epochs = 8\n",
    "lookback = 3\n",
    "\n",
    "def create_dataset(dataset, lookback=3):\n",
    "    dataX, dataY = [],[]\n",
    "    for i in range(len(dataset)-lookback-1):\n",
    "        a = dataset[i:(i+lookback), :]\n",
    "        dataX.append(a)\n",
    "        dataY.append(dataset[i + lookback, 1])\n",
    "        \n",
    "    return np.array(dataX), np.array(dataY)"
   ]
  },
  {
   "cell_type": "markdown",
   "metadata": {},
   "source": [
    "Now that our data is correctly formated, we split it between training and testing data. For that matter, we use 2/3 of our data for training and 0.5 for testing."
   ]
  },
  {
   "cell_type": "code",
   "execution_count": 105,
   "metadata": {},
   "outputs": [
    {
     "name": "stdout",
     "output_type": "stream",
     "text": [
      "726 358\n"
     ]
    },
    {
     "data": {
      "text/plain": [
       "array([[0.63      , 0.87911333, 0.5       , 0.375     , 0.125     ],\n",
       "       [0.59285714, 0.85899667, 0.66666667, 0.08333333, 0.25      ],\n",
       "       [0.55571429, 0.75961   , 0.5625    , 0.375     , 0.0625    ],\n",
       "       [0.51857143, 0.68759333, 0.25      , 0.75      , 0.        ],\n",
       "       [0.48142857, 0.66887667, 0.33333333, 0.5       , 0.16666667]])"
      ]
     },
     "execution_count": 105,
     "metadata": {},
     "output_type": "execute_result"
    }
   ],
   "source": [
    "dataset = production_df.values\n",
    "\n",
    "# split into train and test sets\n",
    "train_size = int(len(dataset) * 0.67)\n",
    "test_size = len(dataset) - train_size\n",
    "train, test = dataset[0:train_size,:], dataset[train_size:len(dataset),:]\n",
    "print(len(train), len(test))\n",
    "\n",
    "dataset[:5]"
   ]
  },
  {
   "cell_type": "code",
   "execution_count": 106,
   "metadata": {},
   "outputs": [],
   "source": [
    "trainX, trainY = create_dataset(train) # default to lookback=3\n",
    "testX, testY = create_dataset(test)"
   ]
  },
  {
   "cell_type": "markdown",
   "metadata": {},
   "source": [
    "Now, our data has the correct (nb_of_samples, lookback, number_of_columns) format"
   ]
  },
  {
   "cell_type": "code",
   "execution_count": 108,
   "metadata": {},
   "outputs": [
    {
     "data": {
      "text/plain": [
       "(722, 3, 5)"
      ]
     },
     "execution_count": 108,
     "metadata": {},
     "output_type": "execute_result"
    }
   ],
   "source": [
    "trainX.shape"
   ]
  },
  {
   "cell_type": "code",
   "execution_count": 188,
   "metadata": {},
   "outputs": [
    {
     "data": {
      "text/plain": [
       "array([[[0.63      , 0.87911333, 0.5       , 0.375     , 0.125     ],\n",
       "        [0.59285714, 0.85899667, 0.66666667, 0.08333333, 0.25      ],\n",
       "        [0.55571429, 0.75961   , 0.5625    , 0.375     , 0.0625    ]],\n",
       "\n",
       "       [[0.59285714, 0.85899667, 0.66666667, 0.08333333, 0.25      ],\n",
       "        [0.55571429, 0.75961   , 0.5625    , 0.375     , 0.0625    ],\n",
       "        [0.51857143, 0.68759333, 0.25      , 0.75      , 0.        ]]])"
      ]
     },
     "execution_count": 188,
     "metadata": {},
     "output_type": "execute_result"
    }
   ],
   "source": [
    "trainX[:2]"
   ]
  },
  {
   "cell_type": "code",
   "execution_count": 187,
   "metadata": {},
   "outputs": [
    {
     "data": {
      "text/plain": [
       "array([0.68759333, 0.66887667])"
      ]
     },
     "execution_count": 187,
     "metadata": {},
     "output_type": "execute_result"
    }
   ],
   "source": [
    "trainY[:2]"
   ]
  },
  {
   "cell_type": "markdown",
   "metadata": {},
   "source": [
    "## Sanity Check"
   ]
  },
  {
   "cell_type": "code",
   "execution_count": 113,
   "metadata": {},
   "outputs": [
    {
     "name": "stdout",
     "output_type": "stream",
     "text": [
      "False\n",
      "False\n",
      "False\n",
      "False\n"
     ]
    }
   ],
   "source": [
    "# Sanity check before sending data to model\n",
    "print(np.any(np.isnan(trainX)))\n",
    "print(np.any(np.isnan(trainY)))\n",
    "print(np.any(np.isnan(testX)))\n",
    "print(np.any(np.isnan(testY)))"
   ]
  },
  {
   "cell_type": "code",
   "execution_count": 167,
   "metadata": {},
   "outputs": [],
   "source": [
    "lstm_model = Sequential()\n",
    "\n",
    "lstm_model.add(Dense(15, input_shape=(3, 5)))\n",
    "lstm_model.add(LSTM(15, dropout = 0.3, recurrent_dropout = 0.3, go_backwards = True))\n",
    "lstm_model.add(Dense(15))\n",
    "lstm_model.add(Dense(15))\n",
    "lstm_model.add(Dense(1))\n",
    "\n",
    "lstm_model.compile(loss='mean_squared_error', optimizer='adam')"
   ]
  },
  {
   "cell_type": "markdown",
   "metadata": {},
   "source": [
    "## Model Training\n",
    "We train our model for 32 epochs, that epochs after that don't really lower the loss anymore, we use 10% of the data for validation, and we use a small batch_size as we don't have a lot of data."
   ]
  },
  {
   "cell_type": "code",
   "execution_count": 168,
   "metadata": {
    "scrolled": true
   },
   "outputs": [
    {
     "name": "stdout",
     "output_type": "stream",
     "text": [
      "Epoch 1/32\n",
      "21/21 [==============================] - 2s 17ms/step - loss: 0.0364 - val_loss: 0.0068\n",
      "Epoch 2/32\n",
      "21/21 [==============================] - 0s 4ms/step - loss: 0.0151 - val_loss: 0.0027\n",
      "Epoch 3/32\n",
      "21/21 [==============================] - 0s 3ms/step - loss: 0.0077 - val_loss: 7.3431e-04\n",
      "Epoch 4/32\n",
      "21/21 [==============================] - 0s 3ms/step - loss: 0.0045 - val_loss: 1.6951e-04\n",
      "Epoch 5/32\n",
      "21/21 [==============================] - 0s 3ms/step - loss: 0.0036 - val_loss: 1.1081e-04\n",
      "Epoch 6/32\n",
      "21/21 [==============================] - 0s 4ms/step - loss: 0.0033 - val_loss: 1.6027e-04\n",
      "Epoch 7/32\n",
      "21/21 [==============================] - 0s 4ms/step - loss: 0.0027 - val_loss: 6.8235e-05\n",
      "Epoch 8/32\n",
      "21/21 [==============================] - 0s 3ms/step - loss: 0.0025 - val_loss: 3.4253e-05\n",
      "Epoch 9/32\n",
      "21/21 [==============================] - 0s 3ms/step - loss: 0.0022 - val_loss: 2.0123e-04\n",
      "Epoch 10/32\n",
      "21/21 [==============================] - 0s 4ms/step - loss: 0.0026 - val_loss: 1.2226e-04\n",
      "Epoch 11/32\n",
      "21/21 [==============================] - 0s 4ms/step - loss: 0.0022 - val_loss: 5.6011e-05\n",
      "Epoch 12/32\n",
      "21/21 [==============================] - 0s 4ms/step - loss: 0.0024 - val_loss: 1.2652e-04\n",
      "Epoch 13/32\n",
      "21/21 [==============================] - 0s 3ms/step - loss: 0.0020 - val_loss: 2.1551e-04\n",
      "Epoch 14/32\n",
      "21/21 [==============================] - 0s 4ms/step - loss: 0.0021 - val_loss: 1.8784e-04\n",
      "Epoch 15/32\n",
      "21/21 [==============================] - 0s 4ms/step - loss: 0.0021 - val_loss: 6.3419e-05\n",
      "Epoch 16/32\n",
      "21/21 [==============================] - 0s 3ms/step - loss: 0.0023 - val_loss: 1.5484e-04\n",
      "Epoch 17/32\n",
      "21/21 [==============================] - 0s 3ms/step - loss: 0.0021 - val_loss: 5.5895e-05\n",
      "Epoch 18/32\n",
      "21/21 [==============================] - 0s 3ms/step - loss: 0.0017 - val_loss: 6.3453e-05\n",
      "Epoch 19/32\n",
      "21/21 [==============================] - 0s 4ms/step - loss: 0.0016 - val_loss: 2.4912e-04\n",
      "Epoch 20/32\n",
      "21/21 [==============================] - 0s 4ms/step - loss: 0.0016 - val_loss: 5.0935e-05\n",
      "Epoch 21/32\n",
      "21/21 [==============================] - 0s 4ms/step - loss: 0.0016 - val_loss: 8.9248e-05\n",
      "Epoch 22/32\n",
      "21/21 [==============================] - 0s 4ms/step - loss: 0.0016 - val_loss: 1.2890e-04\n",
      "Epoch 23/32\n",
      "21/21 [==============================] - 0s 3ms/step - loss: 0.0016 - val_loss: 3.4718e-04\n",
      "Epoch 24/32\n",
      "21/21 [==============================] - 0s 4ms/step - loss: 0.0018 - val_loss: 6.2723e-05\n",
      "Epoch 25/32\n",
      "21/21 [==============================] - 0s 4ms/step - loss: 0.0014 - val_loss: 1.0387e-04\n",
      "Epoch 26/32\n",
      "21/21 [==============================] - 0s 4ms/step - loss: 0.0013 - val_loss: 1.1833e-04\n",
      "Epoch 27/32\n",
      "21/21 [==============================] - 0s 4ms/step - loss: 0.0014 - val_loss: 9.9091e-05\n",
      "Epoch 28/32\n",
      "21/21 [==============================] - 0s 4ms/step - loss: 0.0014 - val_loss: 5.0485e-05\n",
      "Epoch 29/32\n",
      "21/21 [==============================] - 0s 3ms/step - loss: 0.0013 - val_loss: 1.0209e-04\n",
      "Epoch 30/32\n",
      "21/21 [==============================] - 0s 3ms/step - loss: 0.0015 - val_loss: 1.5471e-04\n",
      "Epoch 31/32\n",
      "21/21 [==============================] - 0s 4ms/step - loss: 0.0014 - val_loss: 9.6051e-05\n",
      "Epoch 32/32\n",
      "21/21 [==============================] - 0s 4ms/step - loss: 0.0015 - val_loss: 5.6161e-05\n"
     ]
    }
   ],
   "source": [
    "history = lstm_model.fit(trainX, trainY, epochs=32, batch_size=32, validation_split=0.1, verbose=1)"
   ]
  },
  {
   "cell_type": "markdown",
   "metadata": {},
   "source": [
    "## Evaluation"
   ]
  },
  {
   "cell_type": "code",
   "execution_count": 169,
   "metadata": {},
   "outputs": [
    {
     "data": {
      "image/png": "[encoded data removed]",
      "text/plain": [
       "<Figure size 432x288 with 1 Axes>"
      ]
     },
     "metadata": {
      "needs_background": "light"
     },
     "output_type": "display_data"
    }
   ],
   "source": [
    "plt.clf()\n",
    "\n",
    "loss = history.history['loss']\n",
    "val_loss = history.history['val_loss']\n",
    "x_values = range(1, len(loss)+1)\n",
    "\n",
    "plt.plot(x_values, loss) # blue\n",
    "plt.plot(x_values, val_loss) # orange\n",
    "\n",
    "plt.xlabel('Epochs')\n",
    "plt.ylabel('Loss')\n",
    "plt.show()"
   ]
  },
  {
   "cell_type": "markdown",
   "metadata": {},
   "source": [
    "Here we plot the training and validation loss over the epochs, we can see it drops very fast and doesn't go back up on validation thanks to the adam optimizer, and the dropout we added inside the model."
   ]
  },
  {
   "cell_type": "code",
   "execution_count": 184,
   "metadata": {},
   "outputs": [
    {
     "name": "stdout",
     "output_type": "stream",
     "text": [
      "RMSE for training\n",
      "0.021962961313557548\n",
      "\n",
      "RMSE for testing\n",
      "0.013521656873679358\n"
     ]
    }
   ],
   "source": [
    "training_preds = lstm_model.predict(trainX)\n",
    "preds = lstm_model.predict(testX)\n",
    "\n",
    "print(\"RMSE for training\")\n",
    "print(np.sqrt(mean_squared_error(trainY, training_preds)))\n",
    "\n",
    "print(\"\\nRMSE for testing\")\n",
    "print(np.sqrt(mean_squared_error(testY, preds)))"
   ]
  },
  {
   "cell_type": "markdown",
   "metadata": {},
   "source": [
    "As we scaled our target, we can see the RMSE as a percentage error on our regression prediction, having 1.3% error on average on testing seem very good for our problem !"
   ]
  },
  {
   "cell_type": "code",
   "execution_count": 186,
   "metadata": {},
   "outputs": [
    {
     "name": "stdout",
     "output_type": "stream",
     "text": [
      "we calculate the difference between our target variable and the predicted value\n",
      "head:  [-0.0038943951272964322, 0.0035877316355705097, 0.002737742686271666, 0.0034689832917849245, -0.00231526723543804]\n",
      "\n",
      "variance of our delta, (lower is better)\n",
      "0.00018225916550657293\n"
     ]
    }
   ],
   "source": [
    "delta = [np.sqrt(testY[i]) - np.sqrt(preds[i][0]) for i in range(len(preds))]\n",
    "delta = [(testY[i]) - (preds[i][0]) for i in range(len(preds))]\n",
    "\n",
    "print(\"we calculate the difference between our target variable and the predicted value\")\n",
    "print(\"head: \", delta[:5])\n",
    "\n",
    "print(\"\\nvariance of our delta, (lower is better)\")\n",
    "print(np.var(delta))"
   ]
  },
  {
   "cell_type": "markdown",
   "metadata": {},
   "source": [
    "We just calculated the variance to make sure we didn't have some very high deviation, and it seems that our model is viable enough.\n",
    "\n",
    "However, this result is to take with a grain of salt, the output of this model and it's applicability should be tested over an extensive period of time before using this as an actual trading tool. In the mean time, from what we can see, we have a very good result that would necessitate more work to become more robust, but we are very happy about how it turned out.\n",
    "\n",
    "\n",
    "\n",
    "\n",
    "Authors :\n",
    "* *Quentin Tourette*\n",
    "* *Victor Larrezet*"
   ]
  }
 ],
 "metadata": {
  "kernelspec": {
   "display_name": "Python 3",
   "language": "python",
   "name": "python3"
  },
  "language_info": {
   "codemirror_mode": {
    "name": "ipython",
    "version": 3
   },
   "file_extension": ".py",
   "mimetype": "text/x-python",
   "name": "python",
   "nbconvert_exporter": "python",
   "pygments_lexer": "ipython3",
   "version": "3.8.3"
  }
 },
 "nbformat": 4,
 "nbformat_minor": 2
}
